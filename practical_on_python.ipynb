{
  "nbformat": 4,
  "nbformat_minor": 0,
  "metadata": {
    "colab": {
      "provenance": [],
      "authorship_tag": "ABX9TyMrRjil+d6Wh068x1R8F/tl",
      "include_colab_link": true
    },
    "kernelspec": {
      "name": "python3",
      "display_name": "Python 3"
    },
    "language_info": {
      "name": "python"
    }
  },
  "cells": [
    {
      "cell_type": "markdown",
      "metadata": {
        "id": "view-in-github",
        "colab_type": "text"
      },
      "source": [
        "<a href=\"https://colab.research.google.com/github/Nooralshyab/data-minning/blob/main/practical_on_python.ipynb\" target=\"_parent\"><img src=\"https://colab.research.google.com/assets/colab-badge.svg\" alt=\"Open In Colab\"/></a>"
      ]
    },
    {
      "cell_type": "code",
      "source": [
        "a =10\n",
        "b =5\n",
        "Sum=a+b\n",
        "difference=a-b\n",
        "prouduct=a*b\n",
        "division=a/b\n",
        "\n",
        "print(\"Sum:\" ,sum)\n",
        "print(\"Difference:\" ,difference)\n",
        "print(\"Prouduct:\" ,prouduct)\n",
        "print(\"Division:\",  division)\n"
      ],
      "metadata": {
        "colab": {
          "base_uri": "https://localhost:8080/"
        },
        "id": "6hm0mZI-Aw0O",
        "outputId": "e50773d2-beeb-433c-d69c-88fee613597e"
      },
      "execution_count": null,
      "outputs": [
        {
          "output_type": "stream",
          "name": "stdout",
          "text": [
            "Sum: <built-in function sum>\n",
            "Difference: 5\n",
            "Prouduct: 50\n",
            "Division: 2.0\n"
          ]
        }
      ]
    },
    {
      "cell_type": "code",
      "source": [
        "print(f\"The sum of the two numbers{a},{b}is{sum}\")"
      ],
      "metadata": {
        "colab": {
          "base_uri": "https://localhost:8080/"
        },
        "id": "AttyfHKhGmjE",
        "outputId": "4f831d5b-c842-40d0-9210-4e9088332d55"
      },
      "execution_count": null,
      "outputs": [
        {
          "output_type": "stream",
          "name": "stdout",
          "text": [
            "The sum of the two numbers10,5is<built-in function sum>\n"
          ]
        }
      ]
    },
    {
      "cell_type": "code",
      "source": [
        "x=13/2\n",
        "print(x)\n",
        "y=13%2\n",
        "print(y)"
      ],
      "metadata": {
        "colab": {
          "base_uri": "https://localhost:8080/"
        },
        "id": "2zlFi4AgJTiv",
        "outputId": "5f224e41-e9e6-4daa-ef5b-6806f76434f2"
      },
      "execution_count": null,
      "outputs": [
        {
          "output_type": "stream",
          "name": "stdout",
          "text": [
            "6.5\n",
            "1\n"
          ]
        }
      ]
    },
    {
      "cell_type": "code",
      "source": [
        "#Boolean varibles andcomparisons\n",
        "x=10\n",
        "y=5\n",
        "\n",
        "is_greater=x>y\n",
        "is_equal=x==y\n",
        "is_not_equal =x!=y\n",
        "\n",
        "print(\"is x greater than y?\",is_greater)\n",
        "print(\"is x equaly?\",is_equal)\n",
        "print(\"is x not equalto y?\",is_not_equal)\n",
        "\n"
      ],
      "metadata": {
        "colab": {
          "base_uri": "https://localhost:8080/"
        },
        "id": "HvjfomviKVO-",
        "outputId": "55cbf665-0b83-46ee-dbfc-0fca2cb8cd6a"
      },
      "execution_count": null,
      "outputs": [
        {
          "output_type": "stream",
          "name": "stdout",
          "text": [
            "is x greater than y? True\n",
            "is x equaly? False\n",
            "is x not equalto y? True\n"
          ]
        }
      ]
    },
    {
      "cell_type": "code",
      "source": [
        "#varible assignment\n",
        "name=\"ALaa\"\n",
        "age=55\n",
        "is_professor=True\n",
        "\n",
        "print(f\"{name}is age is {age}.He is aprofessor is{is_professor} \")"
      ],
      "metadata": {
        "colab": {
          "base_uri": "https://localhost:8080/"
        },
        "id": "ODDDVN4HT7Dm",
        "outputId": "75f430a0-9224-4768-a070-fa84e98ea17b"
      },
      "execution_count": null,
      "outputs": [
        {
          "output_type": "stream",
          "name": "stdout",
          "text": [
            "ALaais age is 55.He is aprofessor isTrue \n"
          ]
        }
      ]
    },
    {
      "cell_type": "code",
      "source": [
        "#Difining and using a function\n",
        "def greet(name):\n",
        " \"Hello,\"+ name +\"!\"\n",
        "my_name=input(\"Enter your name:\")\n",
        "greet(\"my name\")"
      ],
      "metadata": {
        "colab": {
          "base_uri": "https://localhost:8080/"
        },
        "id": "eaFfdkgYVSs2",
        "outputId": "a1a67b75-a7d7-4076-d13e-57f6a7548b6a"
      },
      "execution_count": null,
      "outputs": [
        {
          "name": "stdout",
          "output_type": "stream",
          "text": [
            "Enter your name:ALaa\n"
          ]
        }
      ]
    },
    {
      "cell_type": "code",
      "source": [
        "def add_numbers(a,b):\n",
        "return a+b\n",
        "a=eval(input(\"Enter first number:\")\n",
        "b=eval(input(\"Enter second number:\")\n",
        "\n",
        "addition_value=add_numbers(a,b)\n",
        "print(f\"The result of addittion for{a},{b}is {addition_value}\")"
      ],
      "metadata": {
        "colab": {
          "base_uri": "https://localhost:8080/",
          "height": 106
        },
        "id": "EWldyuYydQDX",
        "outputId": "15be4a3a-a188-459e-a2bc-b44a741b6329"
      },
      "execution_count": null,
      "outputs": [
        {
          "output_type": "error",
          "ename": "IndentationError",
          "evalue": "expected an indented block after function definition on line 1 (<ipython-input-47-03a138ca3e1f>, line 2)",
          "traceback": [
            "\u001b[0;36m  File \u001b[0;32m\"<ipython-input-47-03a138ca3e1f>\"\u001b[0;36m, line \u001b[0;32m2\u001b[0m\n\u001b[0;31m    return   a+b\u001b[0m\n\u001b[0m    ^\u001b[0m\n\u001b[0;31mIndentationError\u001b[0m\u001b[0;31m:\u001b[0m expected an indented block after function definition on line 1\n"
          ]
        }
      ]
    },
    {
      "cell_type": "code",
      "source": [],
      "metadata": {
        "id": "8LFXBNHrl0Y8"
      },
      "execution_count": null,
      "outputs": []
    }
  ]
}